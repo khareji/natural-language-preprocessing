{
  "nbformat": 4,
  "nbformat_minor": 0,
  "metadata": {
    "colab": {
      "name": "fakenewsBIDIRECTIONAL.ipynb",
      "provenance": []
    },
    "kernelspec": {
      "name": "python3",
      "display_name": "Python 3"
    },
    "accelerator": "GPU"
  },
  "cells": [
    {
      "cell_type": "code",
      "metadata": {
        "id": "7TymeI5iul0t",
        "colab_type": "code",
        "colab": {}
      },
      "source": [
        "import tensorflow as tf #importing libraries \n",
        "import pandas as pd #data frame\n",
        "import numpy as np #array\n",
        "import matplotlib.pyplot as plt #visualization\n",
        "import nltk #nlp lib\n",
        "import re #lower case\n",
        "from nltk.corpus import stopwords #unwanted words lib(stopwords)\n",
        "from nltk.stem.porter import PorterStemmer #stemming\n",
        "from sklearn.model_selection import train_test_split #dividing data sets train test \n",
        "from tensorflow.keras.layers import Dropout #droup out layer\n",
        "from sklearn.metrics import confusion_matrix \n",
        "from sklearn.metrics import accuracy_score\n",
        "from tensorflow.keras.layers import Embedding #embidding layer lib\n",
        "from tensorflow.keras.preprocessing.sequence import pad_sequences #padding post 0-0-0\n",
        "from tensorflow.keras.models import Sequential #sequential model lib\n",
        "from tensorflow.keras.preprocessing.text import one_hot #one hot represnet \n",
        "from tensorflow.keras.layers import LSTM #lstm lib\n",
        "from tensorflow.keras.layers import Dense \n",
        "from tensorflow.keras.layers import Bidirectional"
      ],
      "execution_count": 1,
      "outputs": []
    },
    {
      "cell_type": "code",
      "metadata": {
        "id": "cvI2lL0kuu87",
        "colab_type": "code",
        "colab": {}
      },
      "source": [
        "datatrain=pd.read_csv(\"/content/drive/My Drive/Colab Notebooks/fakenewslstm/train.csv\") #loading datasets  "
      ],
      "execution_count": 2,
      "outputs": []
    },
    {
      "cell_type": "code",
      "metadata": {
        "id": "oTbi57buuu_i",
        "colab_type": "code",
        "colab": {
          "base_uri": "https://localhost:8080/",
          "height": 136
        },
        "outputId": "f7a0fced-2c35-48fc-b0c9-a2904fbd8d0d"
      },
      "source": [
        "datatrain.head(3)"
      ],
      "execution_count": null,
      "outputs": [
        {
          "output_type": "execute_result",
          "data": {
            "text/html": [
              "<div>\n",
              "<style scoped>\n",
              "    .dataframe tbody tr th:only-of-type {\n",
              "        vertical-align: middle;\n",
              "    }\n",
              "\n",
              "    .dataframe tbody tr th {\n",
              "        vertical-align: top;\n",
              "    }\n",
              "\n",
              "    .dataframe thead th {\n",
              "        text-align: right;\n",
              "    }\n",
              "</style>\n",
              "<table border=\"1\" class=\"dataframe\">\n",
              "  <thead>\n",
              "    <tr style=\"text-align: right;\">\n",
              "      <th></th>\n",
              "      <th>id</th>\n",
              "      <th>title</th>\n",
              "      <th>author</th>\n",
              "      <th>text</th>\n",
              "      <th>label</th>\n",
              "    </tr>\n",
              "  </thead>\n",
              "  <tbody>\n",
              "    <tr>\n",
              "      <th>0</th>\n",
              "      <td>0</td>\n",
              "      <td>House Dem Aide: We Didn’t Even See Comey’s Let...</td>\n",
              "      <td>Darrell Lucus</td>\n",
              "      <td>House Dem Aide: We Didn’t Even See Comey’s Let...</td>\n",
              "      <td>1</td>\n",
              "    </tr>\n",
              "    <tr>\n",
              "      <th>1</th>\n",
              "      <td>1</td>\n",
              "      <td>FLYNN: Hillary Clinton, Big Woman on Campus - ...</td>\n",
              "      <td>Daniel J. Flynn</td>\n",
              "      <td>Ever get the feeling your life circles the rou...</td>\n",
              "      <td>0</td>\n",
              "    </tr>\n",
              "    <tr>\n",
              "      <th>2</th>\n",
              "      <td>2</td>\n",
              "      <td>Why the Truth Might Get You Fired</td>\n",
              "      <td>Consortiumnews.com</td>\n",
              "      <td>Why the Truth Might Get You Fired October 29, ...</td>\n",
              "      <td>1</td>\n",
              "    </tr>\n",
              "  </tbody>\n",
              "</table>\n",
              "</div>"
            ],
            "text/plain": [
              "   id  ... label\n",
              "0   0  ...     1\n",
              "1   1  ...     0\n",
              "2   2  ...     1\n",
              "\n",
              "[3 rows x 5 columns]"
            ]
          },
          "metadata": {
            "tags": []
          },
          "execution_count": 3
        }
      ]
    },
    {
      "cell_type": "code",
      "metadata": {
        "id": "wiuRcWq2uvCL",
        "colab_type": "code",
        "colab": {
          "base_uri": "https://localhost:8080/",
          "height": 218
        },
        "outputId": "9d187f41-bbac-4577-e464-d1866f8f9f8b"
      },
      "source": [
        "datatrain.info()"
      ],
      "execution_count": null,
      "outputs": [
        {
          "output_type": "stream",
          "text": [
            "<class 'pandas.core.frame.DataFrame'>\n",
            "RangeIndex: 20800 entries, 0 to 20799\n",
            "Data columns (total 5 columns):\n",
            " #   Column  Non-Null Count  Dtype \n",
            "---  ------  --------------  ----- \n",
            " 0   id      20800 non-null  int64 \n",
            " 1   title   20242 non-null  object\n",
            " 2   author  18843 non-null  object\n",
            " 3   text    20761 non-null  object\n",
            " 4   label   20800 non-null  int64 \n",
            "dtypes: int64(2), object(3)\n",
            "memory usage: 812.6+ KB\n"
          ],
          "name": "stdout"
        }
      ]
    },
    {
      "cell_type": "code",
      "metadata": {
        "id": "sRJABrSLuvEr",
        "colab_type": "code",
        "colab": {
          "base_uri": "https://localhost:8080/",
          "height": 118
        },
        "outputId": "0e382f9e-9a8b-4e23-fbb2-bef3de2499bf"
      },
      "source": [
        "datatrain.dropna(inplace=True) #droping nan values\n",
        "datatrain.reset_index(inplace=True) #reseting index after droping\n",
        "x=datatrain[\"title\"] #dependent feature storing in X\n",
        "print(x.shape)\n",
        "x.head(3)\n",
        "y=datatrain[\"label\"] #independent feature\n",
        "print(y.shape)\n",
        "y.head(3)"
      ],
      "execution_count": 3,
      "outputs": [
        {
          "output_type": "stream",
          "text": [
            "(18285,)\n",
            "(18285,)\n"
          ],
          "name": "stdout"
        },
        {
          "output_type": "execute_result",
          "data": {
            "text/plain": [
              "0    1\n",
              "1    0\n",
              "2    1\n",
              "Name: label, dtype: int64"
            ]
          },
          "metadata": {
            "tags": []
          },
          "execution_count": 3
        }
      ]
    },
    {
      "cell_type": "code",
      "metadata": {
        "id": "uHLrTbSsdsMR",
        "colab_type": "code",
        "colab": {
          "base_uri": "https://localhost:8080/",
          "height": 67
        },
        "outputId": "eda16bc2-9188-49a0-a0a2-e865c030e6d0"
      },
      "source": [
        "nltk.download(\"stopwords\") #loading stopwords"
      ],
      "execution_count": 4,
      "outputs": [
        {
          "output_type": "stream",
          "text": [
            "[nltk_data] Downloading package stopwords to /root/nltk_data...\n",
            "[nltk_data]   Unzipping corpora/stopwords.zip.\n"
          ],
          "name": "stdout"
        },
        {
          "output_type": "execute_result",
          "data": {
            "text/plain": [
              "True"
            ]
          },
          "metadata": {
            "tags": []
          },
          "execution_count": 4
        }
      ]
    },
    {
      "cell_type": "code",
      "metadata": {
        "id": "H2ZoaRjTuvO7",
        "colab_type": "code",
        "colab": {}
      },
      "source": [
        "ps = PorterStemmer() #steming processes\n",
        "corpus = []\n",
        "for i in range(0, len(x)): #till the length of X (means text)\n",
        "    review = re.sub('[^a-zA-Z]', ' ', x[i]) #special word apart from A-Z||a-z will be replaced by \" \" in text field\n",
        "    review = review.lower() # lowering  letter\n",
        "    review = review.split() #spliting each word\n",
        "    \n",
        "    review = [ps.stem(word) for word in review if not word in stopwords.words('english')] #removing stop waords\n",
        "    review = ' '.join(review)\n",
        "    corpus.append(review)"
      ],
      "execution_count": 5,
      "outputs": []
    },
    {
      "cell_type": "code",
      "metadata": {
        "id": "XYGOXQ0VuvRj",
        "colab_type": "code",
        "colab": {}
      },
      "source": [
        "voc_size=5000 # intializing dict size\n",
        "onehot_repr=[one_hot(words,voc_size)for words in corpus] #performing one hot encoder after tokenizibg the text field to sentence->stemming ->stop word\n",
        "sent_length=20 ## creating max length of each sentence\n",
        "embedded_docs=pad_sequences(onehot_repr,padding='pre',maxlen=sent_length) #padding zero if length is less than 20"
      ],
      "execution_count": 6,
      "outputs": []
    },
    {
      "cell_type": "code",
      "metadata": {
        "id": "pdki7UGPuvWn",
        "colab_type": "code",
        "colab": {
          "base_uri": "https://localhost:8080/",
          "height": 69
        },
        "outputId": "d2d67122-a433-4eb6-9b0a-c7138e9403e7"
      },
      "source": [
        "\"\"\"embedding_vector_features=40  # dimension of feature\n",
        "model=Sequential() #model creation\n",
        "model.add(Embedding(voc_size,embedding_vector_features,input_length=sent_length)) #adding embedding layer\n",
        "model.add(LSTM(100)) #adding lstm layer\n",
        "model.add(Dense(1,activation='sigmoid')) #output layer\n",
        "model.compile(loss='binary_crossentropy',optimizer='adam',metrics=['accuracy'])\n",
        "print(model.summary())\"\"\""
      ],
      "execution_count": 8,
      "outputs": [
        {
          "output_type": "execute_result",
          "data": {
            "application/vnd.google.colaboratory.intrinsic": {
              "type": "string"
            },
            "text/plain": [
              "\"embedding_vector_features=40  # dimension of feature\\nmodel=Sequential() #model creation\\nmodel.add(Embedding(voc_size,embedding_vector_features,input_length=sent_length)) #adding embedding layer\\nmodel.add(LSTM(100)) #adding lstm layer\\nmodel.add(Dense(1,activation='sigmoid')) #output layer\\nmodel.compile(loss='binary_crossentropy',optimizer='adam',metrics=['accuracy'])\\nprint(model.summary())\""
            ]
          },
          "metadata": {
            "tags": []
          },
          "execution_count": 8
        }
      ]
    },
    {
      "cell_type": "code",
      "metadata": {
        "id": "ybKr0JKTuvZQ",
        "colab_type": "code",
        "colab": {
          "base_uri": "https://localhost:8080/",
          "height": 302
        },
        "outputId": "3a22c863-5767-48f1-d770-ee03039993bb"
      },
      "source": [
        "embedding_vector_features=40 # dimension of feature\n",
        "model1=Sequential() #model creation\n",
        "model1.add(Embedding(voc_size,embedding_vector_features,input_length=sent_length)) #adding embedding layer\n",
        "model1.add(Bidirectional(LSTM(100))) #bidirection layer\n",
        "model1.add(Dropout(0.3)) #drop out layer\n",
        "model1.add(Dense(1,activation='sigmoid')) #output layer\n",
        "model1.compile(loss='binary_crossentropy',optimizer='adam',metrics=['accuracy'])\n",
        "print(model1.summary())\n"
      ],
      "execution_count": 11,
      "outputs": [
        {
          "output_type": "stream",
          "text": [
            "Model: \"sequential_3\"\n",
            "_________________________________________________________________\n",
            "Layer (type)                 Output Shape              Param #   \n",
            "=================================================================\n",
            "embedding_3 (Embedding)      (None, 20, 40)            200000    \n",
            "_________________________________________________________________\n",
            "bidirectional_2 (Bidirection (None, 200)               112800    \n",
            "_________________________________________________________________\n",
            "dropout_1 (Dropout)          (None, 200)               0         \n",
            "_________________________________________________________________\n",
            "dense_2 (Dense)              (None, 1)                 201       \n",
            "=================================================================\n",
            "Total params: 313,001\n",
            "Trainable params: 313,001\n",
            "Non-trainable params: 0\n",
            "_________________________________________________________________\n",
            "None\n"
          ],
          "name": "stdout"
        }
      ]
    },
    {
      "cell_type": "code",
      "metadata": {
        "id": "3lah5RKAuvbq",
        "colab_type": "code",
        "colab": {
          "base_uri": "https://localhost:8080/",
          "height": 34
        },
        "outputId": "71bdd976-3a15-449a-b731-9d9ca443dfd1"
      },
      "source": [
        "len(embedded_docs),y.shape"
      ],
      "execution_count": 12,
      "outputs": [
        {
          "output_type": "execute_result",
          "data": {
            "text/plain": [
              "(18285, (18285,))"
            ]
          },
          "metadata": {
            "tags": []
          },
          "execution_count": 12
        }
      ]
    },
    {
      "cell_type": "code",
      "metadata": {
        "id": "szI4vpHzuvef",
        "colab_type": "code",
        "colab": {}
      },
      "source": [
        "xfinal=np.array(embedded_docs)\n",
        "yfinal=np.array(y)"
      ],
      "execution_count": 14,
      "outputs": []
    },
    {
      "cell_type": "code",
      "metadata": {
        "id": "IfI3RRnMuvhK",
        "colab_type": "code",
        "colab": {
          "base_uri": "https://localhost:8080/",
          "height": 34
        },
        "outputId": "23b9b9e6-fcfc-4b7c-ca39-85a6d69a48d3"
      },
      "source": [
        "print(xfinal.shape,yfinal.shape)"
      ],
      "execution_count": 15,
      "outputs": [
        {
          "output_type": "stream",
          "text": [
            "(18285, 20) (18285,)\n"
          ],
          "name": "stdout"
        }
      ]
    },
    {
      "cell_type": "code",
      "metadata": {
        "id": "S3PvHiaGuvjw",
        "colab_type": "code",
        "colab": {}
      },
      "source": [
        "xtrain, xtest, ytrain, ytest = train_test_split(xfinal, yfinal, test_size=0.33, random_state=42)"
      ],
      "execution_count": 16,
      "outputs": []
    },
    {
      "cell_type": "code",
      "metadata": {
        "id": "7OsOcpuCuvmR",
        "colab_type": "code",
        "colab": {
          "base_uri": "https://localhost:8080/",
          "height": 50
        },
        "outputId": "a5fc023d-5daf-48e0-b218-a0533f8a1bfc"
      },
      "source": [
        "model1.fit(xtrain,ytrain,validation_data=(xtest,ytest),epochs=1,batch_size=64)"
      ],
      "execution_count": 17,
      "outputs": [
        {
          "output_type": "stream",
          "text": [
            "192/192 [==============================] - 2s 13ms/step - loss: 0.3053 - accuracy: 0.8522 - val_loss: 0.2025 - val_accuracy: 0.9150\n"
          ],
          "name": "stdout"
        },
        {
          "output_type": "execute_result",
          "data": {
            "text/plain": [
              "<tensorflow.python.keras.callbacks.History at 0x7ff07da43630>"
            ]
          },
          "metadata": {
            "tags": []
          },
          "execution_count": 17
        }
      ]
    },
    {
      "cell_type": "code",
      "metadata": {
        "id": "i26pwQNquvpG",
        "colab_type": "code",
        "colab": {
          "base_uri": "https://localhost:8080/",
          "height": 205
        },
        "outputId": "4102329f-3cf1-4f5b-f896-1dcfcf09a970"
      },
      "source": [
        "ypred=model1.predict_classes(xtest)\n",
        "ypred"
      ],
      "execution_count": 18,
      "outputs": [
        {
          "output_type": "stream",
          "text": [
            "WARNING:tensorflow:From <ipython-input-18-bda6f9d24d8e>:1: Sequential.predict_classes (from tensorflow.python.keras.engine.sequential) is deprecated and will be removed after 2021-01-01.\n",
            "Instructions for updating:\n",
            "Please use instead:* `np.argmax(model.predict(x), axis=-1)`,   if your model does multi-class classification   (e.g. if it uses a `softmax` last-layer activation).* `(model.predict(x) > 0.5).astype(\"int32\")`,   if your model does binary classification   (e.g. if it uses a `sigmoid` last-layer activation).\n"
          ],
          "name": "stdout"
        },
        {
          "output_type": "execute_result",
          "data": {
            "text/plain": [
              "array([[1],\n",
              "       [0],\n",
              "       [0],\n",
              "       ...,\n",
              "       [0],\n",
              "       [1],\n",
              "       [1]], dtype=int32)"
            ]
          },
          "metadata": {
            "tags": []
          },
          "execution_count": 18
        }
      ]
    },
    {
      "cell_type": "code",
      "metadata": {
        "id": "Sx_uRj4Wuvrl",
        "colab_type": "code",
        "colab": {
          "base_uri": "https://localhost:8080/",
          "height": 50
        },
        "outputId": "56079055-ead1-425e-f185-3b9a0825d0be"
      },
      "source": [
        "confusion_matrix(ytest,ypred)"
      ],
      "execution_count": 19,
      "outputs": [
        {
          "output_type": "execute_result",
          "data": {
            "text/plain": [
              "array([[2963,  456],\n",
              "       [  57, 2559]])"
            ]
          },
          "metadata": {
            "tags": []
          },
          "execution_count": 19
        }
      ]
    },
    {
      "cell_type": "code",
      "metadata": {
        "id": "nGRcN25guvuX",
        "colab_type": "code",
        "colab": {
          "base_uri": "https://localhost:8080/",
          "height": 34
        },
        "outputId": "3d25685e-7cf2-4f20-97ac-c814137ba22e"
      },
      "source": [
        "accuracy_score(ytest,ypred)"
      ],
      "execution_count": 21,
      "outputs": [
        {
          "output_type": "execute_result",
          "data": {
            "text/plain": [
              "0.9149958574979288"
            ]
          },
          "metadata": {
            "tags": []
          },
          "execution_count": 21
        }
      ]
    },
    {
      "cell_type": "code",
      "metadata": {
        "id": "bt7A_Ghquvw2",
        "colab_type": "code",
        "colab": {}
      },
      "source": [
        ""
      ],
      "execution_count": null,
      "outputs": []
    },
    {
      "cell_type": "code",
      "metadata": {
        "id": "QyPo50okuvz1",
        "colab_type": "code",
        "colab": {}
      },
      "source": [
        ""
      ],
      "execution_count": null,
      "outputs": []
    }
  ]
}
