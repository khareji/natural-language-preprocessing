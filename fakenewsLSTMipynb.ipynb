{
  "nbformat": 4,
  "nbformat_minor": 0,
  "metadata": {
    "colab": {
      "name": "fakenewsLSTMipynb",
      "provenance": []
    },
    "kernelspec": {
      "name": "python3",
      "display_name": "Python 3"
    },
    "accelerator": "GPU"
  },
  "cells": [
    {
      "cell_type": "code",
      "metadata": {
        "id": "iuwSWmcCj4DG",
        "colab_type": "code",
        "colab": {}
      },
      "source": [
        "import tensorflow as tf #importing libraries \n",
        "import pandas as pd #data frame\n",
        "import numpy as np #array\n",
        "import matplotlib.pyplot as plt #visualization\n",
        "import nltk #nlp lib\n",
        "import re #lower case\n",
        "from nltk.corpus import stopwords #unwanted words lib(stopwords)\n",
        "from nltk.stem.porter import PorterStemmer #stemming\n",
        "from sklearn.model_selection import train_test_split #dividing data sets train test \n",
        "from tensorflow.keras.layers import Dropout #droup out layer\n",
        "from sklearn.metrics import confusion_matrix \n",
        "from sklearn.metrics import accuracy_score\n",
        "from tensorflow.keras.layers import Embedding #embidding layer lib\n",
        "from tensorflow.keras.preprocessing.sequence import pad_sequences #padding post 0-0-0\n",
        "from tensorflow.keras.models import Sequential #sequential model lib\n",
        "from tensorflow.keras.preprocessing.text import one_hot #one hot represnet \n",
        "from tensorflow.keras.layers import LSTM #lstm lib\n",
        "from tensorflow.keras.layers import Dense "
      ],
      "execution_count": 2,
      "outputs": []
    },
    {
      "cell_type": "code",
      "metadata": {
        "id": "-I9maSa5j_sp",
        "colab_type": "code",
        "colab": {}
      },
      "source": [
        "datatrain=pd.read_csv(\"/content/drive/My Drive/Colab Notebooks/fakenewslstm/train.csv\") #loading datasets "
      ],
      "execution_count": 3,
      "outputs": []
    },
    {
      "cell_type": "code",
      "metadata": {
        "id": "XYGD-BXWj_wJ",
        "colab_type": "code",
        "colab": {
          "base_uri": "https://localhost:8080/",
          "height": 136
        },
        "outputId": "d5e5908d-3858-4270-bae6-d6cc2886757d"
      },
      "source": [
        "datatrain.head(3)"
      ],
      "execution_count": 4,
      "outputs": [
        {
          "output_type": "execute_result",
          "data": {
            "text/html": [
              "<div>\n",
              "<style scoped>\n",
              "    .dataframe tbody tr th:only-of-type {\n",
              "        vertical-align: middle;\n",
              "    }\n",
              "\n",
              "    .dataframe tbody tr th {\n",
              "        vertical-align: top;\n",
              "    }\n",
              "\n",
              "    .dataframe thead th {\n",
              "        text-align: right;\n",
              "    }\n",
              "</style>\n",
              "<table border=\"1\" class=\"dataframe\">\n",
              "  <thead>\n",
              "    <tr style=\"text-align: right;\">\n",
              "      <th></th>\n",
              "      <th>id</th>\n",
              "      <th>title</th>\n",
              "      <th>author</th>\n",
              "      <th>text</th>\n",
              "      <th>label</th>\n",
              "    </tr>\n",
              "  </thead>\n",
              "  <tbody>\n",
              "    <tr>\n",
              "      <th>0</th>\n",
              "      <td>0</td>\n",
              "      <td>House Dem Aide: We Didn’t Even See Comey’s Let...</td>\n",
              "      <td>Darrell Lucus</td>\n",
              "      <td>House Dem Aide: We Didn’t Even See Comey’s Let...</td>\n",
              "      <td>1</td>\n",
              "    </tr>\n",
              "    <tr>\n",
              "      <th>1</th>\n",
              "      <td>1</td>\n",
              "      <td>FLYNN: Hillary Clinton, Big Woman on Campus - ...</td>\n",
              "      <td>Daniel J. Flynn</td>\n",
              "      <td>Ever get the feeling your life circles the rou...</td>\n",
              "      <td>0</td>\n",
              "    </tr>\n",
              "    <tr>\n",
              "      <th>2</th>\n",
              "      <td>2</td>\n",
              "      <td>Why the Truth Might Get You Fired</td>\n",
              "      <td>Consortiumnews.com</td>\n",
              "      <td>Why the Truth Might Get You Fired October 29, ...</td>\n",
              "      <td>1</td>\n",
              "    </tr>\n",
              "  </tbody>\n",
              "</table>\n",
              "</div>"
            ],
            "text/plain": [
              "   id  ... label\n",
              "0   0  ...     1\n",
              "1   1  ...     0\n",
              "2   2  ...     1\n",
              "\n",
              "[3 rows x 5 columns]"
            ]
          },
          "metadata": {
            "tags": []
          },
          "execution_count": 4
        }
      ]
    },
    {
      "cell_type": "code",
      "metadata": {
        "id": "OCMBJ_6Cj_1i",
        "colab_type": "code",
        "colab": {
          "base_uri": "https://localhost:8080/",
          "height": 218
        },
        "outputId": "49383a4f-c9fe-4d81-93b6-b9ca16eac1ca"
      },
      "source": [
        "datatrain.info()"
      ],
      "execution_count": 5,
      "outputs": [
        {
          "output_type": "stream",
          "text": [
            "<class 'pandas.core.frame.DataFrame'>\n",
            "RangeIndex: 20800 entries, 0 to 20799\n",
            "Data columns (total 5 columns):\n",
            " #   Column  Non-Null Count  Dtype \n",
            "---  ------  --------------  ----- \n",
            " 0   id      20800 non-null  int64 \n",
            " 1   title   20242 non-null  object\n",
            " 2   author  18843 non-null  object\n",
            " 3   text    20761 non-null  object\n",
            " 4   label   20800 non-null  int64 \n",
            "dtypes: int64(2), object(3)\n",
            "memory usage: 812.6+ KB\n"
          ],
          "name": "stdout"
        }
      ]
    },
    {
      "cell_type": "code",
      "metadata": {
        "id": "11guYL6hj_4S",
        "colab_type": "code",
        "colab": {}
      },
      "source": [
        "datatrain.dropna(inplace=True) #droping nan values"
      ],
      "execution_count": 6,
      "outputs": []
    },
    {
      "cell_type": "code",
      "metadata": {
        "id": "qxy_GHxfj_7C",
        "colab_type": "code",
        "colab": {}
      },
      "source": [
        "datatrain.reset_index(inplace=True) #reseting index after droping"
      ],
      "execution_count": 7,
      "outputs": []
    },
    {
      "cell_type": "code",
      "metadata": {
        "id": "pcxteYa9j_9i",
        "colab_type": "code",
        "colab": {
          "base_uri": "https://localhost:8080/",
          "height": 101
        },
        "outputId": "e2fd13c8-d717-4fe0-80ec-b1b1617dea7e"
      },
      "source": [
        "x=datatrain[\"title\"] #dependent feature storing in X\n",
        "print(x.shape)\n",
        "x.head(3)"
      ],
      "execution_count": 8,
      "outputs": [
        {
          "output_type": "stream",
          "text": [
            "(18285,)\n"
          ],
          "name": "stdout"
        },
        {
          "output_type": "execute_result",
          "data": {
            "text/plain": [
              "0    House Dem Aide: We Didn’t Even See Comey’s Let...\n",
              "1    FLYNN: Hillary Clinton, Big Woman on Campus - ...\n",
              "2                    Why the Truth Might Get You Fired\n",
              "Name: title, dtype: object"
            ]
          },
          "metadata": {
            "tags": []
          },
          "execution_count": 8
        }
      ]
    },
    {
      "cell_type": "code",
      "metadata": {
        "id": "AQkcPnqwj__5",
        "colab_type": "code",
        "colab": {
          "base_uri": "https://localhost:8080/",
          "height": 101
        },
        "outputId": "bdc6a488-a545-45ea-a066-a913085d63ce"
      },
      "source": [
        "y=datatrain[\"label\"] #independent feature\n",
        "print(y.shape)\n",
        "y.head(3)"
      ],
      "execution_count": 9,
      "outputs": [
        {
          "output_type": "stream",
          "text": [
            "(18285,)\n"
          ],
          "name": "stdout"
        },
        {
          "output_type": "execute_result",
          "data": {
            "text/plain": [
              "0    1\n",
              "1    0\n",
              "2    1\n",
              "Name: label, dtype: int64"
            ]
          },
          "metadata": {
            "tags": []
          },
          "execution_count": 9
        }
      ]
    },
    {
      "cell_type": "code",
      "metadata": {
        "id": "D_-x6gXv0vRf",
        "colab_type": "code",
        "colab": {
          "base_uri": "https://localhost:8080/",
          "height": 67
        },
        "outputId": "7b491c63-d81b-4361-de97-ff560d873c6d"
      },
      "source": [
        "nltk.download(\"stopwords\") #loading stopwords"
      ],
      "execution_count": 10,
      "outputs": [
        {
          "output_type": "stream",
          "text": [
            "[nltk_data] Downloading package stopwords to /root/nltk_data...\n",
            "[nltk_data]   Package stopwords is already up-to-date!\n"
          ],
          "name": "stdout"
        },
        {
          "output_type": "execute_result",
          "data": {
            "text/plain": [
              "True"
            ]
          },
          "metadata": {
            "tags": []
          },
          "execution_count": 10
        }
      ]
    },
    {
      "cell_type": "code",
      "metadata": {
        "id": "aqEaGOz7kAC9",
        "colab_type": "code",
        "colab": {}
      },
      "source": [
        "ps = PorterStemmer() #steming processes\n",
        "corpus = []\n",
        "for i in range(0, len(x)): #till the length of X (means text)\n",
        "    review = re.sub('[^a-zA-Z]', ' ', x[i]) #special word apart from A-Z||a-z will be replaced by \" \" in text field\n",
        "    review = review.lower() # lowering  letter\n",
        "    review = review.split() #spliting each word\n",
        "    \n",
        "    review = [ps.stem(word) for word in review if not word in stopwords.words('english')] #removing stop waords\n",
        "    review = ' '.join(review)\n",
        "    corpus.append(review)"
      ],
      "execution_count": 11,
      "outputs": []
    },
    {
      "cell_type": "code",
      "metadata": {
        "id": "U7FVLD1jpZN1",
        "colab_type": "code",
        "colab": {}
      },
      "source": [
        "voc_size=5000 # intializing dict size\n",
        "onehot_repr=[one_hot(words,voc_size)for words in corpus] #performing one hot encoder after tokenizibg the text field to sentence->stemming ->stop word"
      ],
      "execution_count": 12,
      "outputs": []
    },
    {
      "cell_type": "code",
      "metadata": {
        "id": "10iDQMAtpZQb",
        "colab_type": "code",
        "colab": {}
      },
      "source": [
        "sent_length=20 ## creating max length of each sentence\n",
        "embedded_docs=pad_sequences(onehot_repr,padding='pre',maxlen=sent_length) #padding zero if length is less than 20"
      ],
      "execution_count": 13,
      "outputs": []
    },
    {
      "cell_type": "code",
      "metadata": {
        "id": "vLwGQUd2pZS7",
        "colab_type": "code",
        "colab": {
          "base_uri": "https://localhost:8080/",
          "height": 269
        },
        "outputId": "a6489016-8466-4182-db08-d72d599b5e43"
      },
      "source": [
        "embedding_vector_features=40  # dimension of feature\n",
        "model=Sequential() #model creation\n",
        "model.add(Embedding(voc_size,embedding_vector_features,input_length=sent_length)) #adding embedding layer\n",
        "model.add(LSTM(100)) #adding lstm layer\n",
        "model.add(Dense(1,activation='sigmoid')) #output layer\n",
        "model.compile(loss='binary_crossentropy',optimizer='adam',metrics=['accuracy'])\n",
        "print(model.summary())"
      ],
      "execution_count": 14,
      "outputs": [
        {
          "output_type": "stream",
          "text": [
            "Model: \"sequential\"\n",
            "_________________________________________________________________\n",
            "Layer (type)                 Output Shape              Param #   \n",
            "=================================================================\n",
            "embedding (Embedding)        (None, 20, 40)            200000    \n",
            "_________________________________________________________________\n",
            "lstm (LSTM)                  (None, 100)               56400     \n",
            "_________________________________________________________________\n",
            "dense (Dense)                (None, 1)                 101       \n",
            "=================================================================\n",
            "Total params: 256,501\n",
            "Trainable params: 256,501\n",
            "Non-trainable params: 0\n",
            "_________________________________________________________________\n",
            "None\n"
          ],
          "name": "stdout"
        }
      ]
    },
    {
      "cell_type": "code",
      "metadata": {
        "id": "mG19FjkTpZX7",
        "colab_type": "code",
        "colab": {
          "base_uri": "https://localhost:8080/",
          "height": 34
        },
        "outputId": "e5d5d934-feff-427c-b982-4c12325586d3"
      },
      "source": [
        "xfinal=np.array(embedded_docs)\n",
        "yfinal=np.array(y)\n",
        "print(xfinal.shape, yfinal.shape)"
      ],
      "execution_count": 16,
      "outputs": [
        {
          "output_type": "stream",
          "text": [
            "(18285, 20) (18285,)\n"
          ],
          "name": "stdout"
        }
      ]
    },
    {
      "cell_type": "code",
      "metadata": {
        "id": "6ZuEE2A-pZVS",
        "colab_type": "code",
        "colab": {
          "base_uri": "https://localhost:8080/",
          "height": 34
        },
        "outputId": "3333b13e-aa67-4db9-f1ce-2100b4d24528"
      },
      "source": [
        "print(len(embedded_docs),y.shape)"
      ],
      "execution_count": 17,
      "outputs": [
        {
          "output_type": "stream",
          "text": [
            "18285 (18285,)\n"
          ],
          "name": "stdout"
        }
      ]
    },
    {
      "cell_type": "markdown",
      "metadata": {
        "id": "OFF1mwu8bOQk",
        "colab_type": "text"
      },
      "source": [
        "drop out layer added \n"
      ]
    },
    {
      "cell_type": "code",
      "metadata": {
        "id": "psqVUcUwrDE9",
        "colab_type": "code",
        "colab": {}
      },
      "source": [
        "\"\"\"embedding_vector_features=40\n",
        "model=Sequential()\n",
        "model.add(Embedding(voc_size,embedding_vector_features,input_length=sent_length))\n",
        "model.add(Dropout(0.3))\n",
        "model.add(LSTM(100))\n",
        "model.add(Dropout(0.3))\n",
        "model.add(Dense(1,activation='sigmoid'))\n",
        "model.compile(loss='binary_crossentropy',optimizer='adam',metrics=['accuracy'])\"\""
      ],
      "execution_count": null,
      "outputs": []
    },
    {
      "cell_type": "code",
      "metadata": {
        "id": "9cJpUKlJpZaD",
        "colab_type": "code",
        "colab": {}
      },
      "source": [
        "xtrain, xtest, ytrain, ytest = train_test_split(xfinal, yfinal, test_size=.20, random_state=42)"
      ],
      "execution_count": 18,
      "outputs": []
    },
    {
      "cell_type": "code",
      "metadata": {
        "id": "NVhV62d8qzE9",
        "colab_type": "code",
        "colab": {
          "base_uri": "https://localhost:8080/",
          "height": 101
        },
        "outputId": "1a5ea3a5-e46d-480f-a11c-21366db416e2"
      },
      "source": [
        "model.fit(xtrain,ytrain,validation_data=(xtest,ytest),epochs=2,batch_size=64)"
      ],
      "execution_count": 19,
      "outputs": [
        {
          "output_type": "stream",
          "text": [
            "Epoch 1/2\n",
            "229/229 [==============================] - 3s 15ms/step - loss: 0.3091 - accuracy: 0.8588 - val_loss: 0.1939 - val_accuracy: 0.9144\n",
            "Epoch 2/2\n",
            "229/229 [==============================] - 3s 13ms/step - loss: 0.1362 - accuracy: 0.9463 - val_loss: 0.2117 - val_accuracy: 0.9180\n"
          ],
          "name": "stdout"
        },
        {
          "output_type": "execute_result",
          "data": {
            "text/plain": [
              "<tensorflow.python.keras.callbacks.History at 0x7f98c05f7c18>"
            ]
          },
          "metadata": {
            "tags": []
          },
          "execution_count": 19
        }
      ]
    },
    {
      "cell_type": "code",
      "metadata": {
        "id": "So0qTUPurHyt",
        "colab_type": "code",
        "colab": {
          "base_uri": "https://localhost:8080/",
          "height": 205
        },
        "outputId": "23bc0326-8630-43b2-d23d-49987b8c4ab9"
      },
      "source": [
        "ypred=model.predict_classes(xtest)\n",
        "print(ypred)"
      ],
      "execution_count": 20,
      "outputs": [
        {
          "output_type": "stream",
          "text": [
            "WARNING:tensorflow:From <ipython-input-20-08e3e69d1cc5>:1: Sequential.predict_classes (from tensorflow.python.keras.engine.sequential) is deprecated and will be removed after 2021-01-01.\n",
            "Instructions for updating:\n",
            "Please use instead:* `np.argmax(model.predict(x), axis=-1)`,   if your model does multi-class classification   (e.g. if it uses a `softmax` last-layer activation).* `(model.predict(x) > 0.5).astype(\"int32\")`,   if your model does binary classification   (e.g. if it uses a `sigmoid` last-layer activation).\n",
            "[[1]\n",
            " [0]\n",
            " [0]\n",
            " ...\n",
            " [1]\n",
            " [0]\n",
            " [1]]\n"
          ],
          "name": "stdout"
        }
      ]
    },
    {
      "cell_type": "code",
      "metadata": {
        "id": "kPzApd-9rQEj",
        "colab_type": "code",
        "colab": {
          "base_uri": "https://localhost:8080/",
          "height": 50
        },
        "outputId": "ad1ab97f-c340-4ecd-f866-0ae70355ac2e"
      },
      "source": [
        "confusion_matrix(ytest,ypred)"
      ],
      "execution_count": 21,
      "outputs": [
        {
          "output_type": "execute_result",
          "data": {
            "text/plain": [
              "array([[1875,  207],\n",
              "       [  93, 1482]])"
            ]
          },
          "metadata": {
            "tags": []
          },
          "execution_count": 21
        }
      ]
    },
    {
      "cell_type": "code",
      "metadata": {
        "id": "VwRHyWy6aaAf",
        "colab_type": "code",
        "colab": {
          "base_uri": "https://localhost:8080/",
          "height": 34
        },
        "outputId": "de087e40-4cfb-4b04-92fb-758b3fc817b6"
      },
      "source": [
        "accuracy_score(ytest,ypred)"
      ],
      "execution_count": 22,
      "outputs": [
        {
          "output_type": "execute_result",
          "data": {
            "text/plain": [
              "0.9179655455291222"
            ]
          },
          "metadata": {
            "tags": []
          },
          "execution_count": 22
        }
      ]
    }
  ]
}
